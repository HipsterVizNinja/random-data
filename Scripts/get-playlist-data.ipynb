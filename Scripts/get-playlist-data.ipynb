{
 "cells": [
  {
   "cell_type": "markdown",
   "metadata": {},
   "source": [
    "# My First Notebook"
   ]
  },
  {
   "cell_type": "code",
   "execution_count": 3,
   "metadata": {},
   "outputs": [],
   "source": [
    "import spotipy\n",
    "\n",
    "from spotipy.oauth2 import SpotifyClientCredentials\n",
    "\n",
    "import pandas as pd"
   ]
  },
  {
   "cell_type": "code",
   "execution_count": 4,
   "metadata": {},
   "outputs": [],
   "source": [
    "cid = 'CLIENT ID'\n",
    "secret = 'CLIENT SECRET'\n",
    "\n",
    "client_credentials_manager = SpotifyClientCredentials(client_id=cid, client_secret=secret)\n",
    "\n",
    "sp = spotipy.Spotify(client_credentials_manager = client_credentials_manager)\n",
    "\n",
    "# Set settings for dataframe\n",
    "pd.set_option('display.max_rows', 1000)\n",
    "pd.options.display.max_colwidth = 150\n",
    "pd.set_option('display.max_columns', None)"
   ]
  },
  {
   "cell_type": "code",
   "execution_count": 36,
   "metadata": {},
   "outputs": [],
   "source": [
    "def call_playlist(creator, playlist_id):\n",
    "    \n",
    "    #step1\n",
    "\n",
    "    playlist_features_list = [\"artist\",\"album\",\"track_name\",  \"track_id\", \"danceability\",\"energy\",\"key\",\"loudness\",\"mode\", \"speechiness\",\"instrumentalness\",\"liveness\",\"valence\",\"tempo\", \"duration_ms\",\"time_signature\"]\n",
    "    \n",
    "    playlist_df = pd.DataFrame(columns = playlist_features_list)\n",
    "    \n",
    "    #step2\n",
    "    \n",
    "    playlist = sp.user_playlist_tracks(creator, playlist_id)[\"items\"]\n",
    "    for track in playlist:\n",
    "        # Create empty dict\n",
    "        playlist_features = {}\n",
    "        # Get metadata\n",
    "        playlist_features[\"artist\"] = track[\"track\"][\"album\"][\"artists\"][0][\"name\"]\n",
    "        playlist_features[\"album\"] = track[\"track\"][\"album\"][\"name\"]\n",
    "        playlist_features[\"track_name\"] = track[\"track\"][\"name\"]\n",
    "        playlist_features[\"track_id\"] = track[\"track\"][\"id\"]\n",
    "        playlist_features[\"popularity\"] = track[\"track\"][\"popularity\"]\n",
    "        playlist_features[\"explicit\"] = track[\"track\"][\"explicit\"]\n",
    "        playlist_features[\"release_date\"] = track['track']['album']['release_date']\n",
    "        \n",
    "        # Get audio features\n",
    "        audio_features = sp.audio_features(playlist_features[\"track_id\"])[0]\n",
    "        for feature in playlist_features_list[4:]:\n",
    "            playlist_features[feature] = audio_features[feature]\n",
    "        \n",
    "        # Concat the dfs\n",
    "        track_df = pd.DataFrame(playlist_features, index = [0])\n",
    "        playlist_df = pd.concat([playlist_df, track_df], ignore_index = True)\n",
    "\n",
    "    #Step 3\n",
    "        \n",
    "    return playlist_df"
   ]
  },
  {
   "cell_type": "code",
   "execution_count": 80,
   "metadata": {},
   "outputs": [
    {
     "name": "stderr",
     "output_type": "stream",
     "text": [
      "/var/folders/y5/6fmtt_753p73l1p8mxc4rmph0000gp/T/ipykernel_83459/1516133826.py:31: FutureWarning: In a future version, object-dtype columns with all-bool values will not be included in reductions with bool_only=True. Explicitly cast to bool dtype instead.\n",
      "  playlist_df = pd.concat([playlist_df, track_df], ignore_index = True)\n",
      "/var/folders/y5/6fmtt_753p73l1p8mxc4rmph0000gp/T/ipykernel_83459/1516133826.py:31: FutureWarning: In a future version, object-dtype columns with all-bool values will not be included in reductions with bool_only=True. Explicitly cast to bool dtype instead.\n",
      "  playlist_df = pd.concat([playlist_df, track_df], ignore_index = True)\n",
      "/var/folders/y5/6fmtt_753p73l1p8mxc4rmph0000gp/T/ipykernel_83459/1516133826.py:31: FutureWarning: In a future version, object-dtype columns with all-bool values will not be included in reductions with bool_only=True. Explicitly cast to bool dtype instead.\n",
      "  playlist_df = pd.concat([playlist_df, track_df], ignore_index = True)\n",
      "/var/folders/y5/6fmtt_753p73l1p8mxc4rmph0000gp/T/ipykernel_83459/1516133826.py:31: FutureWarning: In a future version, object-dtype columns with all-bool values will not be included in reductions with bool_only=True. Explicitly cast to bool dtype instead.\n",
      "  playlist_df = pd.concat([playlist_df, track_df], ignore_index = True)\n",
      "/var/folders/y5/6fmtt_753p73l1p8mxc4rmph0000gp/T/ipykernel_83459/1516133826.py:31: FutureWarning: In a future version, object-dtype columns with all-bool values will not be included in reductions with bool_only=True. Explicitly cast to bool dtype instead.\n",
      "  playlist_df = pd.concat([playlist_df, track_df], ignore_index = True)\n",
      "/var/folders/y5/6fmtt_753p73l1p8mxc4rmph0000gp/T/ipykernel_83459/1516133826.py:31: FutureWarning: In a future version, object-dtype columns with all-bool values will not be included in reductions with bool_only=True. Explicitly cast to bool dtype instead.\n",
      "  playlist_df = pd.concat([playlist_df, track_df], ignore_index = True)\n",
      "/var/folders/y5/6fmtt_753p73l1p8mxc4rmph0000gp/T/ipykernel_83459/1516133826.py:31: FutureWarning: In a future version, object-dtype columns with all-bool values will not be included in reductions with bool_only=True. Explicitly cast to bool dtype instead.\n",
      "  playlist_df = pd.concat([playlist_df, track_df], ignore_index = True)\n",
      "/var/folders/y5/6fmtt_753p73l1p8mxc4rmph0000gp/T/ipykernel_83459/1516133826.py:31: FutureWarning: In a future version, object-dtype columns with all-bool values will not be included in reductions with bool_only=True. Explicitly cast to bool dtype instead.\n",
      "  playlist_df = pd.concat([playlist_df, track_df], ignore_index = True)\n",
      "/var/folders/y5/6fmtt_753p73l1p8mxc4rmph0000gp/T/ipykernel_83459/1516133826.py:31: FutureWarning: In a future version, object-dtype columns with all-bool values will not be included in reductions with bool_only=True. Explicitly cast to bool dtype instead.\n",
      "  playlist_df = pd.concat([playlist_df, track_df], ignore_index = True)\n",
      "/var/folders/y5/6fmtt_753p73l1p8mxc4rmph0000gp/T/ipykernel_83459/1516133826.py:31: FutureWarning: In a future version, object-dtype columns with all-bool values will not be included in reductions with bool_only=True. Explicitly cast to bool dtype instead.\n",
      "  playlist_df = pd.concat([playlist_df, track_df], ignore_index = True)\n",
      "/var/folders/y5/6fmtt_753p73l1p8mxc4rmph0000gp/T/ipykernel_83459/1516133826.py:31: FutureWarning: In a future version, object-dtype columns with all-bool values will not be included in reductions with bool_only=True. Explicitly cast to bool dtype instead.\n",
      "  playlist_df = pd.concat([playlist_df, track_df], ignore_index = True)\n",
      "/var/folders/y5/6fmtt_753p73l1p8mxc4rmph0000gp/T/ipykernel_83459/1516133826.py:31: FutureWarning: In a future version, object-dtype columns with all-bool values will not be included in reductions with bool_only=True. Explicitly cast to bool dtype instead.\n",
      "  playlist_df = pd.concat([playlist_df, track_df], ignore_index = True)\n",
      "/var/folders/y5/6fmtt_753p73l1p8mxc4rmph0000gp/T/ipykernel_83459/1516133826.py:31: FutureWarning: In a future version, object-dtype columns with all-bool values will not be included in reductions with bool_only=True. Explicitly cast to bool dtype instead.\n",
      "  playlist_df = pd.concat([playlist_df, track_df], ignore_index = True)\n",
      "/var/folders/y5/6fmtt_753p73l1p8mxc4rmph0000gp/T/ipykernel_83459/1516133826.py:31: FutureWarning: In a future version, object-dtype columns with all-bool values will not be included in reductions with bool_only=True. Explicitly cast to bool dtype instead.\n",
      "  playlist_df = pd.concat([playlist_df, track_df], ignore_index = True)\n",
      "/var/folders/y5/6fmtt_753p73l1p8mxc4rmph0000gp/T/ipykernel_83459/1516133826.py:31: FutureWarning: In a future version, object-dtype columns with all-bool values will not be included in reductions with bool_only=True. Explicitly cast to bool dtype instead.\n",
      "  playlist_df = pd.concat([playlist_df, track_df], ignore_index = True)\n",
      "/var/folders/y5/6fmtt_753p73l1p8mxc4rmph0000gp/T/ipykernel_83459/1516133826.py:31: FutureWarning: In a future version, object-dtype columns with all-bool values will not be included in reductions with bool_only=True. Explicitly cast to bool dtype instead.\n",
      "  playlist_df = pd.concat([playlist_df, track_df], ignore_index = True)\n",
      "/var/folders/y5/6fmtt_753p73l1p8mxc4rmph0000gp/T/ipykernel_83459/1516133826.py:31: FutureWarning: In a future version, object-dtype columns with all-bool values will not be included in reductions with bool_only=True. Explicitly cast to bool dtype instead.\n",
      "  playlist_df = pd.concat([playlist_df, track_df], ignore_index = True)\n",
      "/var/folders/y5/6fmtt_753p73l1p8mxc4rmph0000gp/T/ipykernel_83459/1516133826.py:31: FutureWarning: In a future version, object-dtype columns with all-bool values will not be included in reductions with bool_only=True. Explicitly cast to bool dtype instead.\n",
      "  playlist_df = pd.concat([playlist_df, track_df], ignore_index = True)\n",
      "/var/folders/y5/6fmtt_753p73l1p8mxc4rmph0000gp/T/ipykernel_83459/1516133826.py:31: FutureWarning: In a future version, object-dtype columns with all-bool values will not be included in reductions with bool_only=True. Explicitly cast to bool dtype instead.\n",
      "  playlist_df = pd.concat([playlist_df, track_df], ignore_index = True)\n",
      "/var/folders/y5/6fmtt_753p73l1p8mxc4rmph0000gp/T/ipykernel_83459/1516133826.py:31: FutureWarning: In a future version, object-dtype columns with all-bool values will not be included in reductions with bool_only=True. Explicitly cast to bool dtype instead.\n",
      "  playlist_df = pd.concat([playlist_df, track_df], ignore_index = True)\n",
      "/var/folders/y5/6fmtt_753p73l1p8mxc4rmph0000gp/T/ipykernel_83459/1516133826.py:31: FutureWarning: In a future version, object-dtype columns with all-bool values will not be included in reductions with bool_only=True. Explicitly cast to bool dtype instead.\n",
      "  playlist_df = pd.concat([playlist_df, track_df], ignore_index = True)\n",
      "/var/folders/y5/6fmtt_753p73l1p8mxc4rmph0000gp/T/ipykernel_83459/1516133826.py:31: FutureWarning: In a future version, object-dtype columns with all-bool values will not be included in reductions with bool_only=True. Explicitly cast to bool dtype instead.\n",
      "  playlist_df = pd.concat([playlist_df, track_df], ignore_index = True)\n",
      "/var/folders/y5/6fmtt_753p73l1p8mxc4rmph0000gp/T/ipykernel_83459/1516133826.py:31: FutureWarning: In a future version, object-dtype columns with all-bool values will not be included in reductions with bool_only=True. Explicitly cast to bool dtype instead.\n",
      "  playlist_df = pd.concat([playlist_df, track_df], ignore_index = True)\n",
      "/var/folders/y5/6fmtt_753p73l1p8mxc4rmph0000gp/T/ipykernel_83459/1516133826.py:31: FutureWarning: In a future version, object-dtype columns with all-bool values will not be included in reductions with bool_only=True. Explicitly cast to bool dtype instead.\n",
      "  playlist_df = pd.concat([playlist_df, track_df], ignore_index = True)\n",
      "/var/folders/y5/6fmtt_753p73l1p8mxc4rmph0000gp/T/ipykernel_83459/1516133826.py:31: FutureWarning: In a future version, object-dtype columns with all-bool values will not be included in reductions with bool_only=True. Explicitly cast to bool dtype instead.\n",
      "  playlist_df = pd.concat([playlist_df, track_df], ignore_index = True)\n",
      "/var/folders/y5/6fmtt_753p73l1p8mxc4rmph0000gp/T/ipykernel_83459/1516133826.py:31: FutureWarning: In a future version, object-dtype columns with all-bool values will not be included in reductions with bool_only=True. Explicitly cast to bool dtype instead.\n",
      "  playlist_df = pd.concat([playlist_df, track_df], ignore_index = True)\n",
      "/var/folders/y5/6fmtt_753p73l1p8mxc4rmph0000gp/T/ipykernel_83459/1516133826.py:31: FutureWarning: In a future version, object-dtype columns with all-bool values will not be included in reductions with bool_only=True. Explicitly cast to bool dtype instead.\n",
      "  playlist_df = pd.concat([playlist_df, track_df], ignore_index = True)\n",
      "/var/folders/y5/6fmtt_753p73l1p8mxc4rmph0000gp/T/ipykernel_83459/1516133826.py:31: FutureWarning: In a future version, object-dtype columns with all-bool values will not be included in reductions with bool_only=True. Explicitly cast to bool dtype instead.\n",
      "  playlist_df = pd.concat([playlist_df, track_df], ignore_index = True)\n",
      "/var/folders/y5/6fmtt_753p73l1p8mxc4rmph0000gp/T/ipykernel_83459/1516133826.py:31: FutureWarning: In a future version, object-dtype columns with all-bool values will not be included in reductions with bool_only=True. Explicitly cast to bool dtype instead.\n",
      "  playlist_df = pd.concat([playlist_df, track_df], ignore_index = True)\n"
     ]
    }
   ],
   "source": [
    "playlist = \"6VWOFdiA5LyziCASy7gqec\"\n",
    "date = \"20210712\"\n",
    "\n",
    "y=call_playlist(\"SPOTIFY USER\",playlist)\n",
    "y.to_csv('DIRECTORY' + date + '.FILE EXTENSION')"
   ]
  }
 ],
 "metadata": {
  "kernelspec": {
   "display_name": "Python 3.10.6 64-bit",
   "language": "python",
   "name": "python3"
  },
  "language_info": {
   "codemirror_mode": {
    "name": "ipython",
    "version": 3
   },
   "file_extension": ".py",
   "mimetype": "text/x-python",
   "name": "python",
   "nbconvert_exporter": "python",
   "pygments_lexer": "ipython3",
   "version": "3.10.6"
  },
  "orig_nbformat": 4,
  "vscode": {
   "interpreter": {
    "hash": "aee8b7b246df8f9039afb4144a1f6fd8d2ca17a180786b69acc140d282b71a49"
   }
  }
 },
 "nbformat": 4,
 "nbformat_minor": 2
}
